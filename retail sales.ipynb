{
 "cells": [
  {
   "cell_type": "code",
   "execution_count": 4,
   "metadata": {},
   "outputs": [],
   "source": [
    "#Import necessary libraries\n",
    "import pandas as pd\n",
    "import numpy as np"
   ]
  },
  {
   "cell_type": "code",
   "execution_count": 5,
   "metadata": {},
   "outputs": [
    {
     "name": "stdout",
     "output_type": "stream",
     "text": [
      "Requirement already satisfied: openpyxl in c:\\users\\ravi kumar.p\\downloads\\python311\\python311\\lib\\site-packages (3.1.5)\n",
      "Requirement already satisfied: et-xmlfile in c:\\users\\ravi kumar.p\\downloads\\python311\\python311\\lib\\site-packages (from openpyxl) (1.1.0)\n",
      "Note: you may need to restart the kernel to use updated packages.\n"
     ]
    }
   ],
   "source": [
    "pip install openpyxl\n"
   ]
  },
  {
   "cell_type": "code",
   "execution_count": 6,
   "metadata": {},
   "outputs": [],
   "source": [
    "#Load dataset in three formats (json,csv,excel)\n",
    "df_csv=pd.read_csv('retail_sales.csv')\n",
    "df_excel=pd.read_excel('retail_sales.xlsx')\n",
    "df_json=pd.read_json('retail_sales.json')"
   ]
  },
  {
   "cell_type": "code",
   "execution_count": 7,
   "metadata": {},
   "outputs": [],
   "source": [
    "#Data unification\n",
    "combined_data=pd.concat([df_csv,df_excel,df_json],ignore_index=True)"
   ]
  },
  {
   "cell_type": "code",
   "execution_count": 8,
   "metadata": {},
   "outputs": [
    {
     "name": "stdout",
     "output_type": "stream",
     "text": [
      "TransactionID      int64\n",
      "Date              object\n",
      "Product           object\n",
      "Quantity           int64\n",
      "PricePerUnit     float64\n",
      "TotalSales       float64\n",
      "dtype: object\n"
     ]
    },
    {
     "data": {
      "text/plain": [
       "Index(['TransactionID', 'Date', 'Product', 'Quantity', 'PricePerUnit',\n",
       "       'TotalSales'],\n",
       "      dtype='object')"
      ]
     },
     "execution_count": 8,
     "metadata": {},
     "output_type": "execute_result"
    }
   ],
   "source": [
    "#Data cleaning\n",
    "#Drop duplicates\n",
    "combined_data.drop_duplicates(inplace=True)\n",
    "\n",
    "#Handling missing values\n",
    "combined_data.fillna(0,inplace=True)\n",
    "\n",
    "print(combined_data.dtypes)\n",
    "combined_data.columns"
   ]
  },
  {
   "cell_type": "code",
   "execution_count": 9,
   "metadata": {},
   "outputs": [
    {
     "data": {
      "text/plain": [
       "TransactionID             int64\n",
       "Date             datetime64[ns]\n",
       "Product                  object\n",
       "Quantity                  int64\n",
       "PricePerUnit            float64\n",
       "TotalSales              float64\n",
       "dtype: object"
      ]
     },
     "execution_count": 9,
     "metadata": {},
     "output_type": "execute_result"
    }
   ],
   "source": [
    "#Data transformation\n",
    "combined_data['Date']=pd.to_datetime(combined_data['Date'],errors='coerce')\n",
    "\n",
    "combined_data['Quantity']=pd.to_numeric(combined_data['Quantity'],errors='coerce')\n",
    "combined_data.dtypes"
   ]
  },
  {
   "cell_type": "code",
   "execution_count": 11,
   "metadata": {},
   "outputs": [
    {
     "data": {
      "text/plain": [
       "TransactionID             int64\n",
       "Date             datetime64[ns]\n",
       "Product                  object\n",
       "Quantity                  int64\n",
       "PricePerUnit             object\n",
       "TotalSales              float64\n",
       "dtype: object"
      ]
     },
     "execution_count": 11,
     "metadata": {},
     "output_type": "execute_result"
    }
   ],
   "source": [
    "# Converts the 'PricePerUnit' column in the combined_data DataFrame to strings.\n",
    "combined_data['PricePerUnit'] = combined_data['PricePerUnit'].astype(str)\n",
    "\n",
    "combined_data.dtypes\n"
   ]
  },
  {
   "cell_type": "code",
   "execution_count": 12,
   "metadata": {},
   "outputs": [],
   "source": [
    "#Save the cleaned dataset to the new csv\n",
    "combined_data.to_csv('cleaned_data(sales).csv', index=False)"
   ]
  }
 ],
 "metadata": {
  "kernelspec": {
   "display_name": "Python 3",
   "language": "python",
   "name": "python3"
  },
  "language_info": {
   "codemirror_mode": {
    "name": "ipython",
    "version": 3
   },
   "file_extension": ".py",
   "mimetype": "text/x-python",
   "name": "python",
   "nbconvert_exporter": "python",
   "pygments_lexer": "ipython3",
   "version": "3.11.0"
  }
 },
 "nbformat": 4,
 "nbformat_minor": 2
}
